{
 "cells": [
  {
   "cell_type": "markdown",
   "metadata": {},
   "source": [
    "# 过拟合和欠拟和\n",
    "## 泛化能力\n",
    "泛化能力：机器学习算法对未知数据的识别能力，举一反三的能力。\n",
    "在训练开始时，训练集误差和验证集误差都很大，处于欠拟合状态，高偏差低方差。训练不断进行，训练集误差不断减小，验证集先减小后增大。验证集误差变大即进入过拟合状态，此时低偏差高方差。\n",
    "\n",
    "## 过拟合和欠拟合及解决\n",
    "过拟合：模型的复杂度要高于实际的问题，训练过头。机器只是记住了训练数据:在训练数据上表现好，在未知数据上表现差。\n",
    "\n",
    "解决方法：\n",
    "1.\t重新清洗数据，过拟合可能是数据不纯导致的。\n",
    "2.\t增加训练数据量，两者是相对的。\n",
    "3.\t减少参数 。\n",
    "\n",
    "$\\triangleright$损失函数引入正则项。参数过多，惩罚越重，对应损失函数就会变大，而我们的目标是最小化loss 。\n",
    "\n",
    "$\\triangleright$对于一些特定的模型采取剪枝或dropout,BN。\n",
    "4. 重采样方法和验证集方法 常用K折交叉检验：在训练数据的子集上训练和测试模型k次，基于指标优化。\n",
    "5.\t换个模型，模型不适合这个任务。\n",
    "\n",
    "欠拟合：模型的复杂度较低，训练不够。没有学习到数据背后的规律。在训练数据和未知数据上表现都很差。\n",
    "解决方法：不断训练至过拟合，增加模型复杂度（增加特征，减少正则项）。\n",
    "## 交叉验证\n",
    "交叉验证:\n",
    "对样本数据进行切分为k个大小相似的互斥子集，每个子集尽可能保持数据分布的一致性,然后每次用k-1个子集的并集做为训练集，余下的子集做为测试集样本.打乱可以得到多组不同的训练集和测试集;某次训练集中的样本在下次可能成为测试集中的样本，即所谓“交叉”。常用方法：留出法，k折交叉检验，bootstrapping 。对应的python库有sklearn。"
   ]
  },
  {
   "cell_type": "markdown",
   "metadata": {
    "ExecuteTime": {
     "end_time": "2019-06-20T04:32:07.305503Z",
     "start_time": "2019-06-20T04:32:07.295555Z"
    }
   },
   "source": [
    "# 如何度量模型性能\n",
    "## 回归指标\n",
    "统一使用预测值f,期望值y\n",
    "- MAE(平均绝对误差）\n",
    "$\\frac{1}{m}\\sum^m_{i=1}\\mid y-f\\mid$\n",
    "误差越小，模型越好\n",
    "- MSE(均方误差）\n",
    "$\\frac{1}{m}\\sum^m_{i=1}(y-f)^2$\n",
    "就是之前定义的损失函数\n",
    "- RMSE(均方根误差）\n",
    "$\\sqrt{\\frac{1}{m}\\sum^m_{i=1}(y-f)^2}$均方误差加个根号\n",
    "- R平方\n",
    "$1-\\frac{(y-f)^2}{(y-\\overline{y})^2}$，分子表示模型预测误差，分母表示原始数据的离散程度，相除是为了消除原始离散的影响，$R^2$越接近1，模型越好，当$y=f$时全部预测正确，$R^2=1$；当$f=\\overline{y}$时模型胡乱预测，结果为0；当$R^2<0$时，表示x,y没有线性关系。但是随样本量增加，$R^2$也会增加\n",
    "- Adjusted R平方\n",
    "$R_{adjusted}=1-\\frac{(1-R^2)(n-1)}{n-p-1}$\n",
    "n,p分别表示样本量，特征量；放在分母就是为了消除两者的影响\n",
    "- MAPE\n",
    "$\\frac{100}{n}\\sum^n_{i=1}\\mid \\frac{y_i-f_i}{y_i}\\mid$\n",
    "考虑了误差与期望值的距离\n",
    "- RMSPE\n",
    "$\\sqrt{\\frac{1}{n}\\sum^n_{i=1}(\\frac{y_i-f_i}{y_i})^2}$ kaggle使用的一套指标\n",
    "\n",
    "## 分类指标：\n",
    "### 准确率\n",
    "\n",
    "分类正确样本占总样本的比例，不适合用于非平衡数据，$ACC=\\frac{TP+TN}{TP+TN+FP+FN}$\n",
    "\n",
    "### 精确率和召回率：\n",
    "![5.png](attachment:5.png)\n",
    "\n",
    "TP—将正类预测为正类数 \n",
    "\n",
    "FN—将正类预测为负类数 \n",
    "\n",
    "FP—将负类预测为正类数 \n",
    "\n",
    "TN—将负类预测为负类数\n",
    "\n",
    "精确率(查准率):$P=\\frac{TP}{TP+FP}$。已知所有预测为正的样本，其中有多少预测准确。\n",
    "\n",
    "召回率(查全率):$R=\\frac{TP}{TP+FN}$。已知所有实际为正的样本，其中有多少预测出来。\n",
    "\n",
    "$F_1$值:精确率和召回率的调和平均,$\\frac{2}{F_1}=\\frac{1}{P}+\\frac{1}{R}$\n",
    "\n",
    "$F_1=2\\frac{PR}{P+R}$,\n",
    "\n",
    "$F_\\beta=(1+\\beta^2)\\frac{PR}{\\beta^2P+R}$,\n",
    "\n",
    "$F_2$:召回率的权重高于精确率,$F_{0.5}$:精确率的权重高于召回率。\n",
    "\n",
    "Micro-F1:所有类别统一计算,F1公式不变，关键是P,R计算的差异，\n",
    "\n",
    "$P=\\frac{\\sum^m_{i=1}TP_i}{\\sum^m_{i=1}TP_i+\\sum^m_{i=1}FP_i}$，$R=\\frac{\\sum^m_{i=1}TP_i}{\\sum^m_{i=1}TP_i+\\sum^m_{i=1}FN_i}$\n",
    "\n",
    "Macro-F1:分别计算各类的F1并计算均值 $P=\\frac{1}{m}\\sum^m_{i=1}p_i$,$R=\\frac{1}{m}\\sum^m_{i=1}r_i$,m表示类别数目\n",
    "\n",
    "P-R曲线:根据不同阈值产生不同P,R画出来的曲线，横坐标为查全率，纵坐标为查准率\n",
    "\n",
    "比较性能：取P=R的点，看大小\n",
    "\n",
    "### ROC 和AUC：\n",
    "ROC:以𝑇𝑃𝑅=𝑇𝑃𝑇𝑃+𝐹𝑁为横坐标，以𝐹𝑃𝑅=𝐹𝑃𝐹𝑃+𝑇𝑁为纵坐标，画出的曲线。\n",
    "\n",
    "(0,1):FN = 0, FP = 0, 表示所有样本都正确分类\n",
    "\n",
    "(1,0):TN = 0, TP = 0, 表示所有样本都分类错误\n",
    "\n",
    "(0,0):FP = 0, TP = 0, 表示所有样本都分类为负\n",
    "\n",
    "(1,1):TN = 0, FN = 0, 表示左右样本都分类为正\n",
    "\n",
    "显然越靠近右上角，效果越好\n",
    "\n",
    "如何绘制？数据(类别，判断为正类的概率)按𝑃正从高到底排列，每次选取一个不同的threshold，𝑝正≥𝑡ℎ𝑟𝑒𝑠ℎ𝑜𝑙𝑑时为正样本，否则为负样本,得到一组FPR和TPR，即ROC曲线上的一点。训练最极限的状态就是所有的正样本都在负样本前面。\n",
    "\n",
    "过程：\n",
    "\n",
    "1.起点(0,0),n=0\n",
    "\n",
    "2.下一个点以排序后第一个样本的概率值为阈值，计算正类数k,负类数p;n=n+1\n",
    "\n",
    "3.前一个点坐标为(x,y),当前类为正，新坐标更新为(𝑥,𝑦+1𝑘),否则更新为(𝑥+1𝑝,𝑦)\n",
    "4.如果n=样本数，停止，否则回到2\n",
    "\n",
    "AUC:ROC曲线下的面积，0.5≤𝐴𝑈𝐶≤1\n",
    "当测试集中的正负样本的分布变化的时候，ROC曲线能够保持不变"
   ]
  },
  {
   "cell_type": "code",
   "execution_count": null,
   "metadata": {},
   "outputs": [],
   "source": []
  },
  {
   "cell_type": "markdown",
   "metadata": {},
   "source": [
    "# "
   ]
  },
  {
   "cell_type": "code",
   "execution_count": null,
   "metadata": {},
   "outputs": [],
   "source": []
  }
 ],
 "metadata": {
  "hide_input": false,
  "kernelspec": {
   "display_name": "Python 3",
   "language": "python",
   "name": "python3"
  },
  "language_info": {
   "codemirror_mode": {
    "name": "ipython",
    "version": 3
   },
   "file_extension": ".py",
   "mimetype": "text/x-python",
   "name": "python",
   "nbconvert_exporter": "python",
   "pygments_lexer": "ipython3",
   "version": "3.6.8"
  },
  "toc": {
   "base_numbering": 1,
   "nav_menu": {},
   "number_sections": true,
   "sideBar": true,
   "skip_h1_title": false,
   "title_cell": "Table of Contents",
   "title_sidebar": "Contents",
   "toc_cell": false,
   "toc_position": {},
   "toc_section_display": true,
   "toc_window_display": false
  },
  "varInspector": {
   "cols": {
    "lenName": 16,
    "lenType": 16,
    "lenVar": 40
   },
   "kernels_config": {
    "python": {
     "delete_cmd_postfix": "",
     "delete_cmd_prefix": "del ",
     "library": "var_list.py",
     "varRefreshCmd": "print(var_dic_list())"
    },
    "r": {
     "delete_cmd_postfix": ") ",
     "delete_cmd_prefix": "rm(",
     "library": "var_list.r",
     "varRefreshCmd": "cat(var_dic_list()) "
    }
   },
   "types_to_exclude": [
    "module",
    "function",
    "builtin_function_or_method",
    "instance",
    "_Feature"
   ],
   "window_display": false
  }
 },
 "nbformat": 4,
 "nbformat_minor": 2
}
